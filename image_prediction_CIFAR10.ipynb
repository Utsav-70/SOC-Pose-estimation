{
 "cells": [
  {
   "cell_type": "code",
   "execution_count": 1,
   "id": "02dcfa20",
   "metadata": {},
   "outputs": [],
   "source": [
    "import tensorflow as tf\n",
    "from tensorflow.keras import datasets, layers, models"
   ]
  },
  {
   "cell_type": "code",
   "execution_count": 2,
   "id": "6823b417",
   "metadata": {},
   "outputs": [],
   "source": [
    "(train_images, train_labels), (test_images, test_labels) = datasets.cifar10.load_data()\n"
   ]
  },
  {
   "cell_type": "code",
   "execution_count": 3,
   "id": "6eaebefc",
   "metadata": {},
   "outputs": [],
   "source": [
    "train_images, test_images = train_images / 255.0, test_images / 255.0\n"
   ]
  },
  {
   "cell_type": "code",
   "execution_count": 4,
   "id": "ae92f5e2",
   "metadata": {},
   "outputs": [],
   "source": [
    "model = models.Sequential()\n",
    "model.add(layers.Conv2D(32, (3, 3), activation='relu', padding='same', input_shape=(32, 32, 3)))\n",
    "model.add(layers.BatchNormalization())\n",
    "model.add(layers.Conv2D(32, (3, 3), activation='relu', padding='same'))\n",
    "model.add(layers.BatchNormalization())\n",
    "model.add(layers.MaxPooling2D((2, 2)))\n",
    "model.add(layers.Dropout(0.25))\n",
    "\n",
    "model.add(layers.Conv2D(64, (3, 3), activation='relu', padding='same'))\n",
    "model.add(layers.BatchNormalization())\n",
    "model.add(layers.Conv2D(64, (3, 3), activation='relu', padding='same'))\n",
    "model.add(layers.BatchNormalization())\n",
    "model.add(layers.MaxPooling2D((2, 2)))\n",
    "model.add(layers.Dropout(0.25))\n",
    "\n",
    "model.add(layers.Conv2D(128, (3, 3), activation='relu', padding='same'))\n",
    "model.add(layers.BatchNormalization())\n",
    "model.add(layers.Conv2D(128, (3, 3), activation='relu', padding='same'))\n",
    "model.add(layers.BatchNormalization())\n",
    "model.add(layers.MaxPooling2D((2, 2)))\n",
    "model.add(layers.Dropout(0.25))\n",
    "\n",
    "model.add(layers.Flatten())\n",
    "model.add(layers.Dense(128, activation='relu'))\n",
    "model.add(layers.BatchNormalization())\n",
    "model.add(layers.Dropout(0.5))\n",
    "model.add(layers.Dense(10))"
   ]
  },
  {
   "cell_type": "code",
   "execution_count": 5,
   "id": "dc1f30c1",
   "metadata": {},
   "outputs": [],
   "source": [
    "model.compile(optimizer='adam', loss=tf.keras.losses.SparseCategoricalCrossentropy(from_logits=True), metrics=['accuracy'])\n"
   ]
  },
  {
   "cell_type": "code",
   "execution_count": 7,
   "id": "320f0bc9",
   "metadata": {},
   "outputs": [
    {
     "name": "stdout",
     "output_type": "stream",
     "text": [
      "Epoch 1/10\n",
      "1563/1563 [==============================] - 73s 46ms/step - loss: 0.6861 - accuracy: 0.7653 - val_loss: 0.6356 - val_accuracy: 0.7861\n",
      "Epoch 2/10\n",
      "1563/1563 [==============================] - 166s 106ms/step - loss: 0.6227 - accuracy: 0.7871 - val_loss: 0.5737 - val_accuracy: 0.8065\n",
      "Epoch 3/10\n",
      "1563/1563 [==============================] - 99s 63ms/step - loss: 0.5766 - accuracy: 0.8030 - val_loss: 0.6231 - val_accuracy: 0.7905\n",
      "Epoch 4/10\n",
      "1563/1563 [==============================] - 112s 71ms/step - loss: 0.5296 - accuracy: 0.8192 - val_loss: 0.5389 - val_accuracy: 0.8190\n",
      "Epoch 5/10\n",
      "1563/1563 [==============================] - 108s 69ms/step - loss: 0.5055 - accuracy: 0.8274 - val_loss: 0.4816 - val_accuracy: 0.8379\n",
      "Epoch 6/10\n",
      "1563/1563 [==============================] - 87s 56ms/step - loss: 0.4693 - accuracy: 0.8392 - val_loss: 0.5650 - val_accuracy: 0.8198\n",
      "Epoch 7/10\n",
      "1563/1563 [==============================] - 77s 49ms/step - loss: 0.4475 - accuracy: 0.8483 - val_loss: 0.4891 - val_accuracy: 0.8377\n",
      "Epoch 8/10\n",
      "1563/1563 [==============================] - 87s 55ms/step - loss: 0.4240 - accuracy: 0.8547 - val_loss: 0.5112 - val_accuracy: 0.8320\n",
      "Epoch 9/10\n",
      "1563/1563 [==============================] - 79s 50ms/step - loss: 0.4044 - accuracy: 0.8602 - val_loss: 0.5326 - val_accuracy: 0.8278\n",
      "Epoch 10/10\n",
      "1563/1563 [==============================] - 81s 52ms/step - loss: 0.3856 - accuracy: 0.8677 - val_loss: 0.4810 - val_accuracy: 0.8446\n"
     ]
    }
   ],
   "source": [
    "history = model.fit(train_images, train_labels, epochs=10, validation_data=(test_images, test_labels))"
   ]
  },
  {
   "cell_type": "code",
   "execution_count": 10,
   "id": "22b84c30",
   "metadata": {},
   "outputs": [
    {
     "name": "stdout",
     "output_type": "stream",
     "text": [
      "313/313 [==============================] - 3s 10ms/step - loss: 0.4810 - accuracy: 0.8446\n",
      "Test accuracy: 0.8446000218391418\n",
      "Test loss: 0.48101380467414856\n"
     ]
    }
   ],
   "source": [
    "test_loss, test_acc = model.evaluate(test_images, test_labels)\n",
    "print('Test accuracy:', test_acc)\n",
    "print(\"Test loss:\", test_loss)"
   ]
  },
  {
   "cell_type": "code",
   "execution_count": 14,
   "id": "d80a4ae1",
   "metadata": {},
   "outputs": [
    {
     "name": "stderr",
     "output_type": "stream",
     "text": [
      "WARNING:absl:Found untraced functions such as _jit_compiled_convolution_op, _jit_compiled_convolution_op, _jit_compiled_convolution_op, _jit_compiled_convolution_op, _jit_compiled_convolution_op while saving (showing 5 of 6). These functions will not be directly callable after loading.\n"
     ]
    },
    {
     "name": "stdout",
     "output_type": "stream",
     "text": [
      "INFO:tensorflow:Assets written to: ram://561b73b8-b8ea-4a9f-94cd-70126f947f1b/assets\n"
     ]
    },
    {
     "name": "stderr",
     "output_type": "stream",
     "text": [
      "INFO:tensorflow:Assets written to: ram://561b73b8-b8ea-4a9f-94cd-70126f947f1b/assets\n"
     ]
    }
   ],
   "source": [
    "import pickle\n",
    "\n",
    "with open('cifar10_model.pkl', 'wb') as file:\n",
    "    pickle.dump(model, file)"
   ]
  },
  {
   "cell_type": "code",
   "execution_count": null,
   "id": "2ba097e9",
   "metadata": {},
   "outputs": [],
   "source": []
  }
 ],
 "metadata": {
  "kernelspec": {
   "display_name": "Python 3 (ipykernel)",
   "language": "python",
   "name": "python3"
  },
  "language_info": {
   "codemirror_mode": {
    "name": "ipython",
    "version": 3
   },
   "file_extension": ".py",
   "mimetype": "text/x-python",
   "name": "python",
   "nbconvert_exporter": "python",
   "pygments_lexer": "ipython3",
   "version": "3.10.9"
  }
 },
 "nbformat": 4,
 "nbformat_minor": 5
}
