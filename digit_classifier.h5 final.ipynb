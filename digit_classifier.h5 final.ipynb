{
 "cells": [
  {
   "cell_type": "code",
   "execution_count": 9,
   "id": "02e47837",
   "metadata": {},
   "outputs": [],
   "source": [
    "import numpy as np\n",
    "from tensorflow import keras\n",
    "from tensorflow.keras.datasets import mnist\n",
    "from tensorflow.keras.models import Sequential\n",
    "from tensorflow.keras.layers import Dense, Conv2D, MaxPooling2D, Flatten\n",
    "import pickle\n"
   ]
  },
  {
   "cell_type": "code",
   "execution_count": 10,
   "id": "d8108b14",
   "metadata": {},
   "outputs": [],
   "source": [
    "(x_train, y_train), (x_test, y_test) = mnist.load_data()"
   ]
  },
  {
   "cell_type": "code",
   "execution_count": 11,
   "id": "5380d9ef",
   "metadata": {},
   "outputs": [],
   "source": [
    "x_train = x_train.reshape(-1, 28, 28, 1).astype('float32') / 255.0\n",
    "x_test = x_test.reshape(-1, 28, 28, 1).astype('float32') / 255.0\n",
    "y_train = keras.utils.to_categorical(y_train)\n",
    "y_test = keras.utils.to_categorical(y_test)\n"
   ]
  },
  {
   "cell_type": "code",
   "execution_count": 12,
   "id": "a2f8a458",
   "metadata": {},
   "outputs": [],
   "source": [
    "model = Sequential()\n",
    "model.add(Conv2D(32, kernel_size=(3, 3), activation='relu', input_shape=(28, 28, 1)))\n",
    "model.add(MaxPooling2D(pool_size=(2, 2)))\n",
    "model.add(Conv2D(64, kernel_size=(3, 3), activation='relu'))\n",
    "model.add(MaxPooling2D(pool_size=(2, 2)))\n",
    "model.add(Flatten())\n",
    "model.add(Dense(128, activation='relu'))\n",
    "model.add(Dense(10, activation='softmax'))"
   ]
  },
  {
   "cell_type": "code",
   "execution_count": 13,
   "id": "b7dbfe93",
   "metadata": {},
   "outputs": [],
   "source": [
    "model.compile(loss=keras.losses.categorical_crossentropy, optimizer='adam', metrics=['accuracy'])\n"
   ]
  },
  {
   "cell_type": "code",
   "execution_count": 14,
   "id": "a4a2a8f9",
   "metadata": {},
   "outputs": [
    {
     "name": "stdout",
     "output_type": "stream",
     "text": [
      "Epoch 1/10\n",
      "469/469 [==============================] - 25s 51ms/step - loss: 0.1985 - accuracy: 0.9416 - val_loss: 0.0673 - val_accuracy: 0.9774\n",
      "Epoch 2/10\n",
      "469/469 [==============================] - 26s 55ms/step - loss: 0.0584 - accuracy: 0.9816 - val_loss: 0.0445 - val_accuracy: 0.9865\n",
      "Epoch 3/10\n",
      "469/469 [==============================] - 23s 49ms/step - loss: 0.0423 - accuracy: 0.9867 - val_loss: 0.0478 - val_accuracy: 0.9835\n",
      "Epoch 4/10\n",
      "469/469 [==============================] - 23s 49ms/step - loss: 0.0319 - accuracy: 0.9899 - val_loss: 0.0309 - val_accuracy: 0.9897\n",
      "Epoch 5/10\n",
      "469/469 [==============================] - 23s 49ms/step - loss: 0.0242 - accuracy: 0.9927 - val_loss: 0.0286 - val_accuracy: 0.9908\n",
      "Epoch 6/10\n",
      "469/469 [==============================] - 23s 49ms/step - loss: 0.0195 - accuracy: 0.9937 - val_loss: 0.0295 - val_accuracy: 0.9908\n",
      "Epoch 7/10\n",
      "469/469 [==============================] - 23s 49ms/step - loss: 0.0155 - accuracy: 0.9948 - val_loss: 0.0275 - val_accuracy: 0.9911\n",
      "Epoch 8/10\n",
      "469/469 [==============================] - 23s 49ms/step - loss: 0.0135 - accuracy: 0.9956 - val_loss: 0.0340 - val_accuracy: 0.9891\n",
      "Epoch 9/10\n",
      "469/469 [==============================] - 23s 49ms/step - loss: 0.0102 - accuracy: 0.9966 - val_loss: 0.0336 - val_accuracy: 0.9890\n",
      "Epoch 10/10\n",
      "469/469 [==============================] - 25s 52ms/step - loss: 0.0089 - accuracy: 0.9970 - val_loss: 0.0395 - val_accuracy: 0.9887\n"
     ]
    },
    {
     "data": {
      "text/plain": [
       "<keras.callbacks.History at 0x2250328bdf0>"
      ]
     },
     "execution_count": 14,
     "metadata": {},
     "output_type": "execute_result"
    }
   ],
   "source": [
    "model.fit(x_train, y_train, batch_size=128, epochs=10, validation_data=(x_test, y_test))\n"
   ]
  },
  {
   "cell_type": "code",
   "execution_count": 15,
   "id": "96243235",
   "metadata": {},
   "outputs": [
    {
     "name": "stdout",
     "output_type": "stream",
     "text": [
      "Test loss: 0.039467234164476395\n",
      "Test accuracy: 0.9886999726295471\n"
     ]
    }
   ],
   "source": [
    "score = model.evaluate(x_test, y_test, verbose=0)\n",
    "print('Test loss:', score[0])\n",
    "print('Test accuracy:', score[1])"
   ]
  },
  {
   "cell_type": "code",
   "execution_count": 16,
   "id": "9ca75649",
   "metadata": {},
   "outputs": [
    {
     "name": "stderr",
     "output_type": "stream",
     "text": [
      "WARNING:absl:Found untraced functions such as _jit_compiled_convolution_op, _jit_compiled_convolution_op while saving (showing 2 of 2). These functions will not be directly callable after loading.\n"
     ]
    },
    {
     "name": "stdout",
     "output_type": "stream",
     "text": [
      "INFO:tensorflow:Assets written to: ram://fa5e860e-e11f-45de-aad8-148b049b9880/assets\n"
     ]
    },
    {
     "name": "stderr",
     "output_type": "stream",
     "text": [
      "INFO:tensorflow:Assets written to: ram://fa5e860e-e11f-45de-aad8-148b049b9880/assets\n"
     ]
    }
   ],
   "source": [
    "import pickle\n",
    "\n",
    "with open('digit_classifier.h5', 'wb') as file:\n",
    "    pickle.dump(model, file)"
   ]
  },
  {
   "cell_type": "code",
   "execution_count": null,
   "id": "29c5041c",
   "metadata": {},
   "outputs": [],
   "source": []
  }
 ],
 "metadata": {
  "kernelspec": {
   "display_name": "Python 3 (ipykernel)",
   "language": "python",
   "name": "python3"
  },
  "language_info": {
   "codemirror_mode": {
    "name": "ipython",
    "version": 3
   },
   "file_extension": ".py",
   "mimetype": "text/x-python",
   "name": "python",
   "nbconvert_exporter": "python",
   "pygments_lexer": "ipython3",
   "version": "3.10.9"
  }
 },
 "nbformat": 4,
 "nbformat_minor": 5
}
