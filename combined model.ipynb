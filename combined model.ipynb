{
 "cells": [
  {
   "cell_type": "code",
   "execution_count": 6,
   "id": "fac92439",
   "metadata": {},
   "outputs": [],
   "source": [
    "import numpy as np\n",
    "import pandas as pd\n",
    "import tensorflow as tf\n",
    "import matplotlib.pyplot as plt\n",
    "from tensorflow import keras\n",
    "from sklearn.linear_model import LinearRegression, LogisticRegression\n",
    "from sklearn.preprocessing import PolynomialFeatures\n",
    "from sklearn.pipeline import make_pipeline\n",
    "from sklearn.metrics import log_loss\n",
    "from sklearn.metrics import accuracy_score\n"
   ]
  },
  {
   "cell_type": "code",
   "execution_count": 7,
   "id": "a04189fd",
   "metadata": {},
   "outputs": [
    {
     "name": "stdout",
     "output_type": "stream",
     "text": [
      "x         0\n",
      "y         0\n",
      "color     0\n",
      "marker    0\n",
      "dtype: int64\n",
      "x         0\n",
      "y         0\n",
      "color     0\n",
      "marker    0\n",
      "dtype: int64\n"
     ]
    }
   ],
   "source": [
    "train_data = pd.read_csv('Downloads/train.csv')\n",
    "null_values = train_data.isnull()\n",
    "\n",
    "# Count the number of null values in each column\n",
    "null_count = null_values.sum()\n",
    "\n",
    "# Print the null count for each column\n",
    "print(null_count)\n",
    "test_data= pd.read_csv('Downloads/test.csv')\n",
    "null_values1 = test_data.isnull()\n",
    "\n",
    "# Count the number of null values in each column\n",
    "null_count1 = null_values1.sum()\n",
    "\n",
    "# Print the null count for each column\n",
    "print(null_count1)"
   ]
  },
  {
   "cell_type": "code",
   "execution_count": 11,
   "id": "74feed0e",
   "metadata": {},
   "outputs": [],
   "source": [
    "X_train = train_data[['x', 'y']]\n",
    "Y_train_color = train_data['color']\n",
    "Y_train_marker = train_data['marker']\n",
    "\n",
    "X_test = test_data[['x', 'y']]\n",
    "Y_test_color = test_data['color']\n",
    "Y_test_marker = test_data['marker']"
   ]
  },
  {
   "cell_type": "code",
   "execution_count": null,
   "id": "820d7e92",
   "metadata": {},
   "outputs": [],
   "source": []
  },
  {
   "cell_type": "code",
   "execution_count": 12,
   "id": "32a70ec6",
   "metadata": {},
   "outputs": [
    {
     "name": "stdout",
     "output_type": "stream",
     "text": [
      "Logistic Regression Test Loss (Color): 0.0983109322530826\n",
      "Logistic Regression Test Loss (Marker): 0.34283146353880495\n"
     ]
    }
   ],
   "source": [
    "logistic_color_predictions = logistic_reg_color.predict(X_test)\n",
    "\n",
    "# Predict marker using logistic regression on the test set\n",
    "logistic_marker_predictions = logistic_reg_marker.predict(X_test)\n",
    "\n",
    "# Calculate the loss on the test set\n",
    "logistic_color_test_loss = log_loss(Y_test_color, logistic_reg_color.predict_proba(X_test))\n",
    "logistic_marker_test_loss = log_loss(Y_test_marker, logistic_reg_marker.predict_proba(X_test))\n",
    "\n",
    "print(\"Logistic Regression Test Loss (Color):\", logistic_color_test_loss)\n",
    "print(\"Logistic Regression Test Loss (Marker):\", logistic_marker_test_loss)"
   ]
  },
  {
   "cell_type": "code",
   "execution_count": 13,
   "id": "badb306b",
   "metadata": {},
   "outputs": [
    {
     "name": "stdout",
     "output_type": "stream",
     "text": [
      "Accuracy (Color): 0.9925\n",
      "Accuracy (Marker): 0.8316666666666667\n",
      "Logistic Regression Train Loss (Color): 0.09075449212893998\n",
      "Logistic Regression Train Loss (Marker): 0.3436517313404126\n"
     ]
    },
    {
     "name": "stderr",
     "output_type": "stream",
     "text": [
      "D:\\Anaconda\\lib\\site-packages\\sklearn\\linear_model\\_logistic.py:458: ConvergenceWarning: lbfgs failed to converge (status=1):\n",
      "STOP: TOTAL NO. of ITERATIONS REACHED LIMIT.\n",
      "\n",
      "Increase the number of iterations (max_iter) or scale the data as shown in:\n",
      "    https://scikit-learn.org/stable/modules/preprocessing.html\n",
      "Please also refer to the documentation for alternative solver options:\n",
      "    https://scikit-learn.org/stable/modules/linear_model.html#logistic-regression\n",
      "  n_iter_i = _check_optimize_result(\n"
     ]
    }
   ],
   "source": [
    "logistic_reg_color = LogisticRegression(multi_class='multinomial', solver='lbfgs')\n",
    "logistic_reg_color.fit(X_train, Y_train_color)\n",
    "\n",
    "logistic_reg_marker = LogisticRegression(multi_class='multinomial', solver='lbfgs')\n",
    "logistic_reg_marker.fit(X_train, Y_train_marker)\n",
    "\n",
    "color_accuracy = accuracy_score(Y_test_color, logistic_color_predictions)\n",
    "marker_accuracy = accuracy_score(Y_test_marker, logistic_marker_predictions)\n",
    "\n",
    "print(\"Accuracy (Color):\", color_accuracy)\n",
    "print(\"Accuracy (Marker):\", marker_accuracy)\n",
    "\n",
    "logistic_color_train_loss = log_loss(Y_train_color, logistic_reg_color.predict_proba(X_train))\n",
    "logistic_marker_train_loss = log_loss(Y_train_marker, logistic_reg_marker.predict_proba(X_train))\n",
    "\n",
    "print(\"Logistic Regression Train Loss (Color):\", logistic_color_train_loss)\n",
    "print(\"Logistic Regression Train Loss (Marker):\", logistic_marker_train_loss)"
   ]
  },
  {
   "cell_type": "code",
   "execution_count": null,
   "id": "aee560ff",
   "metadata": {},
   "outputs": [],
   "source": []
  },
  {
   "cell_type": "code",
   "execution_count": 15,
   "id": "ee6be108",
   "metadata": {},
   "outputs": [
    {
     "name": "stdout",
     "output_type": "stream",
     "text": [
      "Predicted Color: ['red' 'red' 'red' ... 'purple' 'purple' 'purple']\n",
      "Predicted Marker: ['^' '^' '^' ... '^' '+' '^']\n"
     ]
    }
   ],
   "source": [
    "print(\"Predicted Color:\", logistic_color_predictions)\n",
    "print(\"Predicted Marker:\", logistic_marker_predictions)"
   ]
  },
  {
   "cell_type": "code",
   "execution_count": null,
   "id": "b5c35846",
   "metadata": {},
   "outputs": [],
   "source": []
  },
  {
   "cell_type": "code",
   "execution_count": 17,
   "id": "cf1f78da",
   "metadata": {},
   "outputs": [],
   "source": [
    "import pickle\n",
    "\n",
    "\n",
    "filename = 'combined_model_final.pkl'\n",
    "with open(filename, 'wb') as file:\n",
    "    pickle.dump(logistic_reg_marker, file)"
   ]
  },
  {
   "cell_type": "code",
   "execution_count": null,
   "id": "8e22563a",
   "metadata": {},
   "outputs": [],
   "source": []
  },
  {
   "cell_type": "code",
   "execution_count": null,
   "id": "2aec39ac",
   "metadata": {},
   "outputs": [],
   "source": []
  }
 ],
 "metadata": {
  "kernelspec": {
   "display_name": "Python 3 (ipykernel)",
   "language": "python",
   "name": "python3"
  },
  "language_info": {
   "codemirror_mode": {
    "name": "ipython",
    "version": 3
   },
   "file_extension": ".py",
   "mimetype": "text/x-python",
   "name": "python",
   "nbconvert_exporter": "python",
   "pygments_lexer": "ipython3",
   "version": "3.10.9"
  }
 },
 "nbformat": 4,
 "nbformat_minor": 5
}
